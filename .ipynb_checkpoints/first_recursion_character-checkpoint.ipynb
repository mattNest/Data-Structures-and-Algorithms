{
 "cells": [
  {
   "cell_type": "markdown",
   "metadata": {},
   "source": [
    "#### First Recursion Character "
   ]
  },
  {
   "cell_type": "code",
   "execution_count": 1,
   "metadata": {},
   "outputs": [],
   "source": [
    "# Google Question\n",
    "# Given an array, return the first recurring character\n",
    "# Example1 : array = [2,1,4,2,6,5,1,4]\n",
    "# It should return 2\n",
    "# Example 2 : array = [2,6,4,6,1,3,8,1,2]\n",
    "# It should return 6\n",
    "\n",
    "# First thing that comes to mind is we can create a dictionary and keep storing each element of the array in the dictionary\n",
    "# as we go along the array. But before adding the element to the dictionary, we'll check if the element is already present in the dictionary\n",
    "# If yes, then we simply return the element and break out\n",
    "# If not, then we add the element to the dictionary and move forward"
   ]
  },
  {
   "cell_type": "code",
   "execution_count": 1,
   "metadata": {},
   "outputs": [],
   "source": [
    "def find_first_recurr(arr):\n",
    "    \n",
    "    mapping = dict()\n",
    "    \n",
    "    for item in arr:\n",
    "        if item in mapping:\n",
    "            return item # item > 1\n",
    "        else:\n",
    "            mapping[item] = 1\n",
    "    \n",
    "    return None # no recursion character "
   ]
  },
  {
   "cell_type": "code",
   "execution_count": 2,
   "metadata": {},
   "outputs": [],
   "source": [
    "arr_1 = [2,5,1,2,3,5,1,2,4]\n",
    "arr_2 = [2,1,1,2,3,5,1,2,4]"
   ]
  },
  {
   "cell_type": "code",
   "execution_count": 3,
   "metadata": {},
   "outputs": [
    {
     "data": {
      "text/plain": [
       "2"
      ]
     },
     "execution_count": 3,
     "metadata": {},
     "output_type": "execute_result"
    }
   ],
   "source": [
    "find_first_recurr(arr_1)"
   ]
  },
  {
   "cell_type": "code",
   "execution_count": 4,
   "metadata": {},
   "outputs": [
    {
     "data": {
      "text/plain": [
       "1"
      ]
     },
     "execution_count": 4,
     "metadata": {},
     "output_type": "execute_result"
    }
   ],
   "source": [
    "find_first_recurr(arr_2)"
   ]
  },
  {
   "cell_type": "code",
   "execution_count": null,
   "metadata": {},
   "outputs": [],
   "source": []
  }
 ],
 "metadata": {
  "kernelspec": {
   "display_name": "Python 3",
   "language": "python",
   "name": "python3"
  },
  "language_info": {
   "codemirror_mode": {
    "name": "ipython",
    "version": 3
   },
   "file_extension": ".py",
   "mimetype": "text/x-python",
   "name": "python",
   "nbconvert_exporter": "python",
   "pygments_lexer": "ipython3",
   "version": "3.7.4"
  }
 },
 "nbformat": 4,
 "nbformat_minor": 2
}
