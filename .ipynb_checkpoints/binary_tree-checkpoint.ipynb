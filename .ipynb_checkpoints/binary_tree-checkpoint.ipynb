{
 "cells": [
  {
   "cell_type": "markdown",
   "metadata": {},
   "source": [
    "- Binary Tree Bottcamp: https://youtu.be/BHB0B1jFKQc\n",
    "---\n",
    "- The key part of understanding the three traversal approaches is recursion\n",
    "- Time Complexity for each approaches is O(n), where n is the number of nodes in the tree\n",
    "- Space Complexity is O(h)\n",
    "    - the minimum value of h is log(n), maximum value of h is n (skewed tree)"
   ]
  },
  {
   "cell_type": "code",
   "execution_count": 1,
   "metadata": {},
   "outputs": [],
   "source": [
    "class BinaryTreeNode:\n",
    "    def __init__(self, data=None, left=None, right=None):\n",
    "        self.data = data\n",
    "        self.left = left\n",
    "        self.right = right"
   ]
  },
  {
   "cell_type": "code",
   "execution_count": 2,
   "metadata": {},
   "outputs": [],
   "source": [
    "# preorder traversal using recursion. \n",
    "def preorder(root: BinaryTreeNode) -> None:\n",
    "    if root:\n",
    "        # preorder: \"n\"lr\n",
    "        print(root.data)\n",
    "        preorder(root.left)\n",
    "        preorder(root.right)"
   ]
  },
  {
   "cell_type": "code",
   "execution_count": 3,
   "metadata": {},
   "outputs": [],
   "source": [
    "# inorder traversal using recursion. \n",
    "def inorder(root: BinaryTreeNode) -> None:\n",
    "    if root:\n",
    "        # inorder: l\"n\"r\n",
    "        inorder(root.left)\n",
    "        print(root.data)\n",
    "        inorder(root.right)"
   ]
  },
  {
   "cell_type": "code",
   "execution_count": 4,
   "metadata": {},
   "outputs": [],
   "source": [
    "# postorder traversal using recursion. \n",
    "def postorder(root: BinaryTreeNode) -> None:\n",
    "    if root:\n",
    "        # postorder: lr\"n\"\n",
    "        postorder(root.left)\n",
    "        postorder(root.right)\n",
    "        print(root.data)"
   ]
  },
  {
   "cell_type": "code",
   "execution_count": 5,
   "metadata": {},
   "outputs": [],
   "source": [
    "root = BinaryTreeNode(1)\n",
    "root.left = BinaryTreeNode(2)\n",
    "root.right = BinaryTreeNode(3)\n",
    "root.left.left = BinaryTreeNode(4)\n",
    "root.left.right = BinaryTreeNode(5)"
   ]
  },
  {
   "cell_type": "code",
   "execution_count": 6,
   "metadata": {},
   "outputs": [
    {
     "name": "stdout",
     "output_type": "stream",
     "text": [
      "1\n",
      "2\n",
      "4\n",
      "5\n",
      "3\n"
     ]
    }
   ],
   "source": [
    "preorder(root) # 1 --> 2 --> 4 --> 5 --> 3"
   ]
  },
  {
   "cell_type": "code",
   "execution_count": 7,
   "metadata": {},
   "outputs": [
    {
     "name": "stdout",
     "output_type": "stream",
     "text": [
      "4\n",
      "2\n",
      "5\n",
      "1\n",
      "3\n"
     ]
    }
   ],
   "source": [
    "inorder(root) # 4 --> 2 --> 5 --> 1 --> 3"
   ]
  },
  {
   "cell_type": "code",
   "execution_count": 8,
   "metadata": {},
   "outputs": [
    {
     "name": "stdout",
     "output_type": "stream",
     "text": [
      "4\n",
      "5\n",
      "2\n",
      "3\n",
      "1\n"
     ]
    }
   ],
   "source": [
    "postorder(root) # 4 --> 5 --> 2 --> 3 --> 1"
   ]
  }
 ],
 "metadata": {
  "kernelspec": {
   "display_name": "Python 3",
   "language": "python",
   "name": "python3"
  },
  "language_info": {
   "codemirror_mode": {
    "name": "ipython",
    "version": 3
   },
   "file_extension": ".py",
   "mimetype": "text/x-python",
   "name": "python",
   "nbconvert_exporter": "python",
   "pygments_lexer": "ipython3",
   "version": "3.7.4"
  }
 },
 "nbformat": 4,
 "nbformat_minor": 2
}
