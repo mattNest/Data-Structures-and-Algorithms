{
 "cells": [
  {
   "cell_type": "code",
   "execution_count": 1,
   "metadata": {},
   "outputs": [],
   "source": [
    "class BstNode:\n",
    "    def __init__(self, data):\n",
    "        self.data = data\n",
    "        self.left = None\n",
    "        self.right = None"
   ]
  },
  {
   "cell_type": "code",
   "execution_count": 2,
   "metadata": {},
   "outputs": [],
   "source": [
    "def search_bst(root: BstNode, key: int):\n",
    "    \"\"\"\n",
    "    check if a given value is present in a BST\n",
    "    \"\"\"\n",
    "    \n",
    "    if root is None:\n",
    "        return None\n",
    "    \n",
    "    if root.data == key:\n",
    "        print(\"Key Founded\")\n",
    "        return root.data\n",
    "    \n",
    "    # given key is greater than root's key --> we move on to search the right sub-tree\n",
    "    if key > root.data:\n",
    "        search_bst(root.right, key)\n",
    "    \n",
    "    # given key is smaller than root's key --> we move on the search the left sub-tree\n",
    "    if key < root.data:\n",
    "        search_bst(root.left, key)\n",
    "    \n",
    "    print(\"didn't found the key\")"
   ]
  },
  {
   "cell_type": "code",
   "execution_count": 3,
   "metadata": {},
   "outputs": [],
   "source": [
    "def insert_key(root: BstNode, key: int):\n",
    "    \n",
    "    # if the bst is empty, return a new root node\n",
    "    if root is None:\n",
    "        return BstNode(key)\n",
    "    # otherwise recur down the tree\n",
    "    else:\n",
    "        if root.data < key:\n",
    "            root.right = insert_key(root.right, key)\n",
    "        if root.data > key:\n",
    "            root.left = insert_key(root.left, key)\n",
    "    \n",
    "    # return the \"unchanged\" root pointer\n",
    "    #print(root.data)\n",
    "    return root"
   ]
  },
  {
   "cell_type": "code",
   "execution_count": 4,
   "metadata": {},
   "outputs": [],
   "source": [
    "def min_value_node(root: BstNode):\n",
    "    \n",
    "    curr = root\n",
    "    \n",
    "    # traverse down the find the leftmost node\n",
    "    while curr.left:\n",
    "        curr = curr.left\n",
    "    \n",
    "    return curr"
   ]
  },
  {
   "cell_type": "code",
   "execution_count": 10,
   "metadata": {},
   "outputs": [],
   "source": [
    "def delete_key(root: BstNode, key):\n",
    "        \n",
    "    if root is None:\n",
    "        return root\n",
    "    \n",
    "    # if the key to be deleted is smaller than root's key, than it's at the left subtree\n",
    "    # traverse down left to find the key\n",
    "    if key < root.data:\n",
    "        root.left = delete_key(root.left, key)\n",
    "    \n",
    "    # if the key to be deleted is larger than root's key, than it's at the right subtree\n",
    "    # traverse down right to find the key\n",
    "    if key > root.data:\n",
    "        root.right = delete_key(root.right, key)\n",
    "    \n",
    "    # find the node to be deleted\n",
    "    if key == root.data:\n",
    "        # the node to be deleted only have \"one child\" or \"no child\"\n",
    "        if root.left is None:\n",
    "            tmp = root.right\n",
    "            root = None\n",
    "            return tmp\n",
    "        \n",
    "        if root.right is None:\n",
    "            tmp = root.left\n",
    "            root = None\n",
    "            return tmp\n",
    "        \n",
    "        # the node to be deleted have two children\n",
    "        # get the node's inorder successor\n",
    "        inorder_successor = min_value_node(root.right)\n",
    "        \n",
    "        root.data = inorder_successor.data\n",
    "        \n",
    "        root.right = delete_key(root.right, inorder_successor.data)\n",
    "    \n",
    "    # print(root.data)\n",
    "    # return the \"unchanged\" pointer\n",
    "    return root"
   ]
  },
  {
   "cell_type": "code",
   "execution_count": 11,
   "metadata": {},
   "outputs": [],
   "source": [
    "def inorder(root: BstNode) -> None:\n",
    "    # l\"n\"r\n",
    "    if root:\n",
    "        inorder(root.left)\n",
    "        print(root.data)\n",
    "        inorder(root.right)"
   ]
  },
  {
   "cell_type": "code",
   "execution_count": 12,
   "metadata": {},
   "outputs": [
    {
     "name": "stdout",
     "output_type": "stream",
     "text": [
      "20\n",
      "30\n",
      "40\n",
      "50\n",
      "60\n",
      "70\n",
      "80\n"
     ]
    }
   ],
   "source": [
    "root = BstNode(50)\n",
    "root = insert_key(root, 30)\n",
    "root = insert_key(root, 20)\n",
    "root = insert_key(root, 40)\n",
    "root = insert_key(root, 70)\n",
    "root = insert_key(root, 60)\n",
    "root = insert_key(root, 80)\n",
    "\n",
    "inorder(root)"
   ]
  },
  {
   "cell_type": "code",
   "execution_count": 13,
   "metadata": {},
   "outputs": [
    {
     "name": "stdout",
     "output_type": "stream",
     "text": [
      "Key Founded\n"
     ]
    },
    {
     "data": {
      "text/plain": [
       "50"
      ]
     },
     "execution_count": 13,
     "metadata": {},
     "output_type": "execute_result"
    }
   ],
   "source": [
    "# search if 50 is in bst\n",
    "search_bst(root, 50)"
   ]
  },
  {
   "cell_type": "code",
   "execution_count": 14,
   "metadata": {},
   "outputs": [
    {
     "name": "stdout",
     "output_type": "stream",
     "text": [
      "20\n",
      "40\n",
      "50\n",
      "60\n",
      "70\n",
      "80\n"
     ]
    }
   ],
   "source": [
    "# delete 30\n",
    "root = delete_key(root, 30)\n",
    "\n",
    "inorder(root)"
   ]
  },
  {
   "cell_type": "code",
   "execution_count": null,
   "metadata": {},
   "outputs": [],
   "source": []
  },
  {
   "cell_type": "code",
   "execution_count": null,
   "metadata": {},
   "outputs": [],
   "source": []
  }
 ],
 "metadata": {
  "kernelspec": {
   "display_name": "Python 3",
   "language": "python",
   "name": "python3"
  },
  "language_info": {
   "codemirror_mode": {
    "name": "ipython",
    "version": 3
   },
   "file_extension": ".py",
   "mimetype": "text/x-python",
   "name": "python",
   "nbconvert_exporter": "python",
   "pygments_lexer": "ipython3",
   "version": "3.7.4"
  }
 },
 "nbformat": 4,
 "nbformat_minor": 2
}
