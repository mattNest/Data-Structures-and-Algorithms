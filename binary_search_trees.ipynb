{
 "cells": [
  {
   "cell_type": "code",
   "execution_count": 1,
   "metadata": {},
   "outputs": [],
   "source": [
    "class BstNode:\n",
    "    def __init__(self, data):\n",
    "        self.data = data\n",
    "        self.left = None\n",
    "        self.right = None"
   ]
  },
  {
   "cell_type": "code",
   "execution_count": 2,
   "metadata": {},
   "outputs": [],
   "source": [
    "def search_bst(root: BstNode, key: int):\n",
    "    \"\"\"\n",
    "    check if a given value is present in a BST\n",
    "    \"\"\"\n",
    "    \n",
    "    if root is None:\n",
    "        return None\n",
    "    \n",
    "    if root.data == key:\n",
    "        print(\"Key Founded\")\n",
    "        return root.data\n",
    "    \n",
    "    # given key is greater than root's key --> we move on to search the right sub-tree\n",
    "    if key > root.data:\n",
    "        search_bst(root.right, key)\n",
    "    \n",
    "    # given key is smaller than root's key --> we move on the search the left sub-tree\n",
    "    if key < root.data:\n",
    "        search_bst(root.left, key)\n",
    "    \n",
    "    print(\"didn't found the key\")"
   ]
  },
  {
   "cell_type": "code",
   "execution_count": 3,
   "metadata": {},
   "outputs": [],
   "source": [
    "def insert_key(root: BstNode, key: int):\n",
    "    \n",
    "    # first element of the bst \n",
    "    if root is None:\n",
    "        return BstNode(key)\n",
    "    else:\n",
    "        if root.data == key:\n",
    "            return root\n",
    "        if root.data < key:\n",
    "            root.right = insert_key(root.right, key)\n",
    "        if root.data > key:\n",
    "            root.left = insert_key(root.left, key)\n",
    "            \n",
    "    return root"
   ]
  },
  {
   "cell_type": "code",
   "execution_count": 4,
   "metadata": {},
   "outputs": [],
   "source": [
    "def inorder(root: BstNode) -> None:\n",
    "    # l\"n\"r\n",
    "    if root:\n",
    "        inorder(root.left)\n",
    "        print(root.data)\n",
    "        inorder(root.right)"
   ]
  },
  {
   "cell_type": "code",
   "execution_count": 5,
   "metadata": {},
   "outputs": [
    {
     "name": "stdout",
     "output_type": "stream",
     "text": [
      "20\n",
      "30\n",
      "40\n",
      "50\n",
      "60\n",
      "70\n",
      "80\n"
     ]
    }
   ],
   "source": [
    "root = BstNode(50)\n",
    "root = insert_key(root, 30)\n",
    "root = insert_key(root, 20)\n",
    "root = insert_key(root, 40)\n",
    "root = insert_key(root, 70)\n",
    "root = insert_key(root, 60)\n",
    "root = insert_key(root, 80)\n",
    "\n",
    "inorder(root)"
   ]
  },
  {
   "cell_type": "code",
   "execution_count": 6,
   "metadata": {},
   "outputs": [
    {
     "name": "stdout",
     "output_type": "stream",
     "text": [
      "Key Founded\n"
     ]
    },
    {
     "data": {
      "text/plain": [
       "50"
      ]
     },
     "execution_count": 6,
     "metadata": {},
     "output_type": "execute_result"
    }
   ],
   "source": [
    "search_bst(root, 50)"
   ]
  },
  {
   "cell_type": "code",
   "execution_count": null,
   "metadata": {},
   "outputs": [],
   "source": []
  }
 ],
 "metadata": {
  "kernelspec": {
   "display_name": "Python 3",
   "language": "python",
   "name": "python3"
  },
  "language_info": {
   "codemirror_mode": {
    "name": "ipython",
    "version": 3
   },
   "file_extension": ".py",
   "mimetype": "text/x-python",
   "name": "python",
   "nbconvert_exporter": "python",
   "pygments_lexer": "ipython3",
   "version": "3.7.4"
  }
 },
 "nbformat": 4,
 "nbformat_minor": 2
}
