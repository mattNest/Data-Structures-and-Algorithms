{
 "cells": [
  {
   "cell_type": "code",
   "execution_count": 24,
   "metadata": {},
   "outputs": [],
   "source": [
    "def permutation(remaining, candidate=\"\"):\n",
    "    \n",
    "    if len(remaining) == 0:\n",
    "        print(candidate)\n",
    "    \n",
    "    for num in range(len(remaining)):\n",
    "        \n",
    "        print(\"candidate: {0}, remaining: {1}\".format(candidate, remaining))\n",
    "        \n",
    "        new_candidate = candidate + remaining[num]        \n",
    "        new_remaining = remaining[0:num] + remaining[num+1:]\n",
    "        \n",
    "        permutation(new_remaining, new_candidate)"
   ]
  },
  {
   "cell_type": "code",
   "execution_count": 25,
   "metadata": {},
   "outputs": [
    {
     "name": "stdout",
     "output_type": "stream",
     "text": [
      "candidate: , remaining: ABC\n",
      "candidate: A, remaining: BC\n",
      "candidate: AB, remaining: C\n",
      "ABC\n",
      "candidate: A, remaining: BC\n",
      "candidate: AC, remaining: B\n",
      "ACB\n",
      "candidate: , remaining: ABC\n",
      "candidate: B, remaining: AC\n",
      "candidate: BA, remaining: C\n",
      "BAC\n",
      "candidate: B, remaining: AC\n",
      "candidate: BC, remaining: A\n",
      "BCA\n",
      "candidate: , remaining: ABC\n",
      "candidate: C, remaining: AB\n",
      "candidate: CA, remaining: B\n",
      "CAB\n",
      "candidate: C, remaining: AB\n",
      "candidate: CB, remaining: A\n",
      "CBA\n"
     ]
    }
   ],
   "source": [
    "s1 = \"ABC\"\n",
    "permutation(s1)"
   ]
  },
  {
   "cell_type": "code",
   "execution_count": null,
   "metadata": {},
   "outputs": [],
   "source": []
  }
 ],
 "metadata": {
  "kernelspec": {
   "display_name": "Python 3",
   "language": "python",
   "name": "python3"
  },
  "language_info": {
   "codemirror_mode": {
    "name": "ipython",
    "version": 3
   },
   "file_extension": ".py",
   "mimetype": "text/x-python",
   "name": "python",
   "nbconvert_exporter": "python",
   "pygments_lexer": "ipython3",
   "version": "3.7.4"
  }
 },
 "nbformat": 4,
 "nbformat_minor": 2
}
