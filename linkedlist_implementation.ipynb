{
 "cells": [
  {
   "cell_type": "code",
   "execution_count": 1,
   "metadata": {},
   "outputs": [],
   "source": [
    "class Node:\n",
    "    def __init__(self, data = None, next=None):\n",
    "        self.data = data\n",
    "        self.next = None"
   ]
  },
  {
   "cell_type": "code",
   "execution_count": 2,
   "metadata": {},
   "outputs": [],
   "source": [
    "class LinkedList:\n",
    "    def __init__(self):\n",
    "        self.head = None\n",
    "    \n",
    "    def insert_begin(self, data):\n",
    "        \"\"\"\n",
    "        insert node at the beginning of linked list\n",
    "        \"\"\"\n",
    "        new_node = Node(data)\n",
    "        \n",
    "        new_node.next = self.head\n",
    "        self.head = new_node\n",
    "        \n",
    "        \n",
    "    def insert_end(self, data):\n",
    "        \"\"\"\n",
    "        insert node at the end of linked list\n",
    "        \"\"\"\n",
    "        new_node = Node(data)\n",
    "        \n",
    "        if self.head:\n",
    "            current = self.head\n",
    "            while(current.next != None):\n",
    "                current = current.next # traverse linkedlist to the end\n",
    "            current.next = new_node # insert the new node in the end\n",
    "        else:\n",
    "            self.head = new_node\n",
    "    \n",
    "    def insert_middle(self, prev_node, data):\n",
    "        \"\"\"\n",
    "        insert node in the middle of linked list\n",
    "        \"\"\"\n",
    "        if prev_node is None:\n",
    "            print(\"prev_node must appears in the linkedlist!\")\n",
    "        \n",
    "        new_node = Node(data)\n",
    "        new_node.next = prev_node.next\n",
    "        prev_node.next = new_node\n",
    "    \n",
    "    def delete(self, del_value):\n",
    "        \n",
    "        tmp = self.head\n",
    "        \n",
    "        # if head node itself holds the value to be deleted\n",
    "        # we simply move the head to the next node\n",
    "        if tmp:\n",
    "            if tmp.data == del_value:\n",
    "                self.head = tmp.next\n",
    "                tmp = None\n",
    "                return \n",
    "        \n",
    "        # search for the value to be deleted\n",
    "        # keep the prev_node\n",
    "        while tmp:\n",
    "            if tmp.data == del_value:\n",
    "                break\n",
    "            prev_node = tmp\n",
    "            tmp = tmp.next\n",
    "        \n",
    "        # do not find the value \n",
    "        if tmp == None:\n",
    "            return \n",
    "\n",
    "        prev_node.next = tmp.next \n",
    "        \n",
    "        tmp = None\n",
    "        \n",
    "    def print_ll(self):\n",
    "        \"\"\"\n",
    "        traverse the linked list and print the data value \n",
    "        \"\"\"\n",
    "        tmp = self.head\n",
    "        while(tmp != None):\n",
    "            print(tmp.data)\n",
    "            tmp = tmp.next"
   ]
  },
  {
   "cell_type": "code",
   "execution_count": 3,
   "metadata": {},
   "outputs": [],
   "source": [
    "ll = LinkedList()"
   ]
  },
  {
   "cell_type": "code",
   "execution_count": 4,
   "metadata": {},
   "outputs": [],
   "source": [
    "ll.insert_end(1) # 1\n",
    "ll.insert_end(2) # 1 --> 2 \n",
    "ll.insert_end(4) # 1 --> 2 --> 4\n",
    "ll.insert_end(5) # 1 --> 2 --> 4 --> 5\n",
    "ll.insert_begin(0) # 0 --> 1 --> 2 --> 3 --> 4 --> 5 \n",
    "ll.insert_middle(ll.head.next.next, 3) # 0 --> 1 --> 2 --> 3 --> 4 --> 5"
   ]
  },
  {
   "cell_type": "code",
   "execution_count": 5,
   "metadata": {},
   "outputs": [],
   "source": [
    "ll.print_ll()"
   ]
  },
  {
   "cell_type": "code",
   "execution_count": 6,
   "metadata": {},
   "outputs": [],
   "source": [
    "ll.delete(3) # 0 --> 1 --> 2 --> 4 ---> 5 "
   ]
  },
  {
   "cell_type": "code",
   "execution_count": 8,
   "metadata": {},
   "outputs": [
    {
     "name": "stdout",
     "output_type": "stream",
     "text": [
      "0\n",
      "1\n",
      "2\n",
      "4\n",
      "5\n"
     ]
    }
   ],
   "source": [
    "ll.print_ll()"
   ]
  },
  {
   "cell_type": "code",
   "execution_count": null,
   "metadata": {},
   "outputs": [],
   "source": []
  }
 ],
 "metadata": {
  "kernelspec": {
   "display_name": "Python 3",
   "language": "python",
   "name": "python3"
  },
  "language_info": {
   "codemirror_mode": {
    "name": "ipython",
    "version": 3
   },
   "file_extension": ".py",
   "mimetype": "text/x-python",
   "name": "python",
   "nbconvert_exporter": "python",
   "pygments_lexer": "ipython3",
   "version": "3.7.4"
  }
 },
 "nbformat": 4,
 "nbformat_minor": 2
}
