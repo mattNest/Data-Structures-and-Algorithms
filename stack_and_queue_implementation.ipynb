{
 "cells": [
  {
   "cell_type": "code",
   "execution_count": 1,
   "metadata": {},
   "outputs": [],
   "source": [
    "# stack: last in first out\n",
    "# push: add an element to the stack\n",
    "# pop: remove an element from the stack\n",
    "# peek: get the topmost element of stack"
   ]
  },
  {
   "cell_type": "code",
   "execution_count": 2,
   "metadata": {},
   "outputs": [
    {
     "data": {
      "text/plain": [
       "2"
      ]
     },
     "execution_count": 2,
     "metadata": {},
     "output_type": "execute_result"
    }
   ],
   "source": [
    "stack = []\n",
    "stack.append(1) # 1\n",
    "stack.append(2) # 1 --> 2\n",
    "stack.append(3) # 1 --> 2 --> 3\n",
    "stack.pop() # return 3, 1 --> 2 \n",
    "stack[-1] # return 2"
   ]
  },
  {
   "cell_type": "code",
   "execution_count": 3,
   "metadata": {},
   "outputs": [],
   "source": [
    "# queue: first in first out\n",
    "# enqueue: add an element to the queue\n",
    "# dequeue: remove an element from the queue"
   ]
  },
  {
   "cell_type": "code",
   "execution_count": 4,
   "metadata": {},
   "outputs": [
    {
     "data": {
      "text/plain": [
       "1"
      ]
     },
     "execution_count": 4,
     "metadata": {},
     "output_type": "execute_result"
    }
   ],
   "source": [
    "queue = []\n",
    "queue.append(1) # 1\n",
    "queue.append(2) # 1 --> 2\n",
    "queue.append(3) # 1 --> 2 --> 3\n",
    "queue.pop(0) # return 1, remain 2 --> 3 (the default pop() is pop(index=-1))"
   ]
  },
  {
   "cell_type": "code",
   "execution_count": null,
   "metadata": {},
   "outputs": [],
   "source": []
  }
 ],
 "metadata": {
  "kernelspec": {
   "display_name": "Python 3",
   "language": "python",
   "name": "python3"
  },
  "language_info": {
   "codemirror_mode": {
    "name": "ipython",
    "version": 3
   },
   "file_extension": ".py",
   "mimetype": "text/x-python",
   "name": "python",
   "nbconvert_exporter": "python",
   "pygments_lexer": "ipython3",
   "version": "3.7.4"
  }
 },
 "nbformat": 4,
 "nbformat_minor": 2
}
