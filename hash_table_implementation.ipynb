{
 "cells": [
  {
   "cell_type": "markdown",
   "metadata": {},
   "source": [
    "#### Implement Hash Table in Python"
   ]
  },
  {
   "cell_type": "code",
   "execution_count": 20,
   "metadata": {},
   "outputs": [],
   "source": [
    "class hash_table():\n",
    "    def __init__(self, size):\n",
    "        \"\"\"\n",
    "        Initiallize the size of our hash table, which means the number of the buckets\n",
    "        \"\"\"\n",
    "        self.size = size \n",
    "        self.hash_map = [None] * self.size\n",
    "    \n",
    "    def __str__(self):\n",
    "        \"\"\"\n",
    "        Here we define a dunder(magic) method to make overloaded behaviour \n",
    "        __str__ available in our own defined class - hash_table. Our __str__ method here\n",
    "        is simply used to print the class object in a dictionary format in python.\n",
    "        \"\"\"\n",
    "        return str(self.__dict__)\n",
    "    \n",
    "    def _hash(self, key):\n",
    "        \"\"\"\n",
    "        Our own custom hash function. Note that the function starts with single underscore\n",
    "        means that this function is intended for internal use.\n",
    "        \"\"\"\n",
    "        hash_value = 0\n",
    "\n",
    "        for i in range(len(key)):\n",
    "            hash_value = (hash_value + ord(key[i]) * i) % self.size \n",
    "        \n",
    "        return hash_value\n",
    "    \n",
    "    def set_value(self, key, value):\n",
    "        \"\"\"\n",
    "        Insert a new pair of (key, value) to the hash\n",
    "        \"\"\"\n",
    "\n",
    "        hash_value = self._hash(key)\n",
    "        \n",
    "        if not self.hash_map[hash_value]:\n",
    "            self.hash_map[hash_value] = [[key, value]]\n",
    "        else: # hash_map collision\n",
    "            self.hash_map[hash_value].append([key,value])\n",
    "        \n",
    "        print(self.hash_map)\n",
    "        \n",
    "    def get_value(self, key):\n",
    "        \"\"\"\n",
    "        Return the value correspond to the key entered by the user\n",
    "        \"\"\"\n",
    "        \n",
    "        hash_value = self._hash(key)\n",
    "        \n",
    "        if self.hash_map[hash_value]:\n",
    "            for i in range(len(self.hash_map[hash_value])):\n",
    "                if self.hash_map[hash_value][i][0] == key:\n",
    "                    return self.hash_map[hash_value][i][1]\n",
    "            \n",
    "        return None # key not found in the hash map\n",
    "    \n",
    "    def get_all_keys(self):\n",
    "        \"\"\"\n",
    "        Return all the keys in the hash map\n",
    "        \"\"\"\n",
    "        keys_arr = []\n",
    "        \n",
    "        for i in range(self.size):\n",
    "            if self.hash_map[i]:\n",
    "                for j in range(len(self.hash_map[i])):\n",
    "                    keys_arr.append(self.hash_map[i][j][0])\n",
    "        \n",
    "        return keys_arr\n",
    "    \n",
    "    def get_all_values(self):\n",
    "        \"\"\"\n",
    "        Return all the values in the hash map\n",
    "        \"\"\"\n",
    "        values_arr = []\n",
    "        \n",
    "        for i in range(self.size):\n",
    "            if self.hash_map[i]:\n",
    "                for j in range(len(self.hash_map[i])):\n",
    "                    values_arr.append(self.hash_map[i][j][1])\n",
    "        \n",
    "        return values_arr\n",
    "    "
   ]
  },
  {
   "cell_type": "code",
   "execution_count": 21,
   "metadata": {},
   "outputs": [
    {
     "name": "stdout",
     "output_type": "stream",
     "text": [
      "[None, [['orange', 1]]]\n",
      "[[['apple', 2]], [['orange', 1]]]\n",
      "[[['apple', 2]], [['orange', 1], ['banana', 3]]]\n"
     ]
    },
    {
     "data": {
      "text/plain": [
       "[2, 1, 3]"
      ]
     },
     "execution_count": 21,
     "metadata": {},
     "output_type": "execute_result"
    }
   ],
   "source": [
    "h = hash_table(2)\n",
    "h.set_value(\"orange\",1)\n",
    "h.set_value(\"apple\",2)\n",
    "h.set_value(\"banana\",3)\n",
    "h.get_all_keys()\n",
    "h.get_all_values()"
   ]
  },
  {
   "cell_type": "code",
   "execution_count": null,
   "metadata": {},
   "outputs": [],
   "source": []
  }
 ],
 "metadata": {
  "kernelspec": {
   "display_name": "Python 3",
   "language": "python",
   "name": "python3"
  },
  "language_info": {
   "codemirror_mode": {
    "name": "ipython",
    "version": 3
   },
   "file_extension": ".py",
   "mimetype": "text/x-python",
   "name": "python",
   "nbconvert_exporter": "python",
   "pygments_lexer": "ipython3",
   "version": "3.7.4"
  }
 },
 "nbformat": 4,
 "nbformat_minor": 2
}
